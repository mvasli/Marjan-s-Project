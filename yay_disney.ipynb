{
 "cells": [
  {
   "cell_type": "code",
   "execution_count": 1,
   "metadata": {},
   "outputs": [],
   "source": [
    "import string\n",
    "import random"
   ]
  },
  {
   "cell_type": "code",
   "execution_count": 2,
   "metadata": {},
   "outputs": [],
   "source": [
    "# functions in this cell used from A3, Chatbot Assignment\n",
    "\n",
    "def is_question(input_string):             # checks if the input is a question\n",
    "    if \"?\" in input_string:\n",
    "        output = True\n",
    "    elif \"?\" not in input_string:\n",
    "        output = False\n",
    "        \n",
    "    return output\n",
    "\n",
    "def remove_punctuation(input_string):  # gets rid of all punctuation\n",
    "    out_string = ''\n",
    "    for item in input_string:\n",
    "        if item not in string.punctuation:\n",
    "            out_string = out_string + item\n",
    "            \n",
    "    return out_string\n",
    "\n",
    "\n",
    "def prepare_text(input_string):   # prepares the text inputs for processing\n",
    "\n",
    "    temp_string = input_string.lower()\n",
    "    temp_string = remove_punctuation(temp_string)\n",
    "    out_list = temp_string.split()\n",
    "    \n",
    "    return out_list\n",
    "\n",
    "def respond_echo(input_string, number_of_echoes, spacer):   # returns a string that has been repeated a signnificant number of times, with a separator\n",
    "    \n",
    "    if input_string is not None:\n",
    "        echo_output = (input_string+spacer)*number_of_echoes\n",
    "    else:\n",
    "        echo_output = None\n",
    "        \n",
    "    return echo_output\n",
    "\n",
    "\n",
    "def selector(input_list, check_list, return_list):       # helps with the selection of an output for our chatbot in accordance with the input it gets from user\n",
    "    \n",
    "    output = None\n",
    "    \n",
    "    for item in input_list:\n",
    "        if item in check_list:\n",
    "            output = random.choice(return_list)\n",
    "            break\n",
    "            \n",
    "    return output\n",
    "\n",
    "\n",
    "def string_concatenator(string1, string2, separator):    # concatenates two strings and combines with a specific separator\n",
    "    output = string1 + separator + string2\n",
    "    \n",
    "    return output\n",
    "\n",
    "\n",
    "def list_to_string(input_list, separator):       # turns a list of strings back into one single concatenated string\n",
    "    output = input_list[0]\n",
    "    \n",
    "    for item in input_list[1]:\n",
    "        output = string_concatenator(output, item, separator)\n",
    "        \n",
    "    return output\n",
    "\n",
    "\n",
    "def end_chat(input_list):         # ends our chatbot\n",
    "    if 'quit' in input_list:\n",
    "        output = True \n",
    "    elif 'bye' in input_list:\n",
    "        output = True\n",
    "    elif 'goodbye' in input_list:\n",
    "        output = True \n",
    "    elif 'goodnight' in input_list:\n",
    "        output = True\n",
    "    else:\n",
    "        output = False\n",
    "    return output\n",
    "\n",
    "\n",
    "def is_in_list(list_one, list_two):    # checks if any element from list_one is in list_2\n",
    "    \n",
    "    for element in list_one:\n",
    "        if element in list_two:\n",
    "            return True\n",
    "    return False\n",
    "\n",
    "\n",
    "def find_in_list(list_one, list_two):  # finds and returns an element from list_one that is in list_2\n",
    "    \n",
    "    for element in list_one:\n",
    "        if element in list_two:\n",
    "            return element\n",
    "        \n",
    "    return None\n",
    "\n",
    "# basic functions used to start a chatbot \n",
    "\n",
    "unknown = ['Good.', 'Okay', 'Huh?', 'Yeah!', 'Thanks!'] \n",
    "question = \"Sorry I dont really know how to answer that question\"\n",
    "# lists of elements used for/referred to in the functions above\n"
   ]
  },
  {
   "cell_type": "code",
   "execution_count": 3,
   "metadata": {},
   "outputs": [],
   "source": [
    "def disney_character(input_string):\n",
    "    \n",
    "    if \"mickey\" in input_string:\n",
    "        output = True\n",
    "    elif \"donald\" in input_string:\n",
    "        output= True \n",
    "    elif \"goofy\" in input_string:\n",
    "        output= True \n",
    "    elif \"minnie\" in input_string:\n",
    "        output= True \n",
    "    elif \"pluto\" in input_string:\n",
    "        output= True\n",
    "    else:\n",
    "        output= False\n",
    "        \n",
    "    return(output) "
   ]
  },
  {
   "cell_type": "code",
   "execution_count": 4,
   "metadata": {},
   "outputs": [
    {
     "data": {
      "text/plain": [
       "True"
      ]
     },
     "execution_count": 4,
     "metadata": {},
     "output_type": "execute_result"
    }
   ],
   "source": [
    "disney_character('mickey')"
   ]
  },
  {
   "cell_type": "code",
   "execution_count": 5,
   "metadata": {},
   "outputs": [],
   "source": [
    "def disney_character_output(input_string):\n",
    "    \n",
    "    if \"mickey\" in input_string:\n",
    "        out_msg = \"mickey is one of my favorite characters\"\n",
    "    elif \"donald\" in input_string:\n",
    "        out_msg= \"you know donald is always so angry\"\n",
    "    elif \"minnie\" in input_string:\n",
    "        out_msg= \"Minnie has always been super nice\"\n",
    "    elif \"goofy\" in input_string:\n",
    "        out_msg= \"Goofy has a son named max in college just like you\"\n",
    "    elif \"pluto\" in input_string:\n",
    "        out_msg= \"Pluto is the best of boys\"\n",
    "        \n",
    "    return(out_msg)"
   ]
  },
  {
   "cell_type": "code",
   "execution_count": 6,
   "metadata": {},
   "outputs": [],
   "source": [
    "def princess_check(input_string):\n",
    "    \n",
    "    if \"cinderella\" in input_string:\n",
    "        output = True\n",
    "    elif \"snow white\" in input_string:\n",
    "        output= True \n",
    "    elif \"ariel\" in input_string:\n",
    "        output= True \n",
    "    elif \"jasmine\" in input_string:\n",
    "        output= True \n",
    "    elif \"belle\" in input_string:\n",
    "        output= True\n",
    "    elif \"aurora\" in input_string:\n",
    "        output= True\n",
    "    elif \"elsa\" in input_string:\n",
    "        output= True\n",
    "    else:\n",
    "        output= False\n",
    "        \n",
    "    return(output) "
   ]
  },
  {
   "cell_type": "code",
   "execution_count": 7,
   "metadata": {},
   "outputs": [],
   "source": [
    "def princess_output(input_string):\n",
    "    \n",
    "    if \"cinderella\" in input_string:\n",
    "        out_msg = \"cinderella is so lucky to have her godmother\"\n",
    "    elif \"snow white\" in input_string:\n",
    "        out_msg= \"I wonder what would have happened if snow white would've just not taken food from a stranger\"\n",
    "    elif \"ariel\" in input_string:\n",
    "        out_msg= \"Sebastian has such good advice but flounder was really who saved ariel \"\n",
    "    elif \"jasmine\" in input_string:\n",
    "        out_msg= \"Jasmine really got to see the whole world on a flying carpet how lucky!!!!\"\n",
    "    elif \"belle\" in input_string:\n",
    "        out_msg= \"Belle not only helped save beast but also all of his servants too!!\"\n",
    "        \n",
    "    return(out_msg)"
   ]
  },
  {
   "cell_type": "code",
   "execution_count": 8,
   "metadata": {},
   "outputs": [],
   "source": [
    "def pixar_check(input_string):\n",
    "    \n",
    "    if \"walle\" in input_string:\n",
    "        output = True\n",
    "    elif \"nemo\" in input_string:\n",
    "        output= True \n",
    "    elif \"coco\" in input_string:\n",
    "        output= True \n",
    "    elif \"cars\" in input_string:\n",
    "        output= True \n",
    "    elif \"buzz lightyear\" in input_string:\n",
    "        output= True\n",
    "    else:\n",
    "        output= False\n",
    "        \n",
    "    return(output) "
   ]
  },
  {
   "cell_type": "code",
   "execution_count": 9,
   "metadata": {},
   "outputs": [],
   "source": [
    "def pixar_output(input_string):\n",
    "    \n",
    "    if \"walle\" in input_string:\n",
    "        out_msg = \"you know im really scared that we will end up like the world of walle\"\n",
    "    elif \"nemo\" in input_string:\n",
    "        out_msg= \"just keep swimming swimming swimming! WHERE IS NEMO\"\n",
    "    elif \"coco\" in input_string:\n",
    "        out_msg= \"miguel really chased his dream and and that led to finding out the truth and finding his grandpa \"\n",
    "    elif \"cars\" in input_string:\n",
    "        out_msg= \"lightning mcqueen is the fastest car there is!\"\n",
    "    elif \"buzz lightyear\" in input_string:\n",
    "        out_msg= \"To infinity and BEYOND!!!\"\n",
    "        \n",
    "    return(out_msg)"
   ]
  },
  {
   "cell_type": "code",
   "execution_count": 10,
   "metadata": {},
   "outputs": [],
   "source": [
    "def prepare_name(input_string):   # prepares the person's name and adds a ':' to it\n",
    "    prep_name =  input_string + \": \"\n",
    "    return prep_name"
   ]
  },
  {
   "cell_type": "code",
   "execution_count": 11,
   "metadata": {},
   "outputs": [],
   "source": [
    "import time \n",
    "import sys"
   ]
  },
  {
   "cell_type": "code",
   "execution_count": 12,
   "metadata": {},
   "outputs": [],
   "source": [
    "def custom_print(string, how = \"reverse\", dur = 0, inline = True):\n",
    "    \n",
    "    if how == \"reverse\": # if how is equal to reverse then run this block of code\n",
    "        new_string = string\n",
    "        while len(new_string) > 0:\n",
    "            if inline == True: sys.stdout.write(\"\\r\")\n",
    "            sys.stdout.write('{message: <{fill}}'.format(message=new_string, fill=str(len(string))))\n",
    "            if inline == False: sys.stdout.write(\"\\n\")\n",
    "            if inline == True: sys.stdout.flush()\n",
    "            new_string = new_string[0:len(new_string) - 1]\n",
    "            time.sleep(float(dur))\n",
    "            \n",
    "    return new_string   # saw an example and got some ideas from online"
   ]
  },
  {
   "cell_type": "code",
   "execution_count": 13,
   "metadata": {},
   "outputs": [],
   "source": [
    "def Baymax_on():\n",
    "    \n",
    "    chat = True \n",
    "    print(\"Hi im baymax please enter your name\")   \n",
    "    name = input()           # takes in person's name\n",
    "    print(\"hello nice to meet you \" + name +\" lets chat\")\n",
    "    \n",
    "    while chat: \n",
    "        person = input(prepare_name(name))    # takes in the name that was put in to input and runs the prepare_name def from above\n",
    "        out_msg = None \n",
    "    \n",
    "        if end_chat(person):   # check for an end msg\n",
    "            print(\"Baymax: wait before you go what's your fav movie?\")\n",
    "            \n",
    "            movie = input(prepare_name(name))  # takes in user input for movie\n",
    "            out_msg = \"Baymax: oooooo \" + movie + \" is a great one, my fav is Inside Out LOL, Ok Bye \"+ name + \" talk to you later!\"\n",
    "            custom_print(out_msg, \"reverse\",.5)\n",
    "            chat = False  # now that false, loop is broken, and chat is stopped\n",
    "            \n",
    "        if not out_msg:  \n",
    "            \n",
    "            if is_question(person):         # if a question it runs through our is_question function from earlier \n",
    "                    out_msg = question    \n",
    "            if disney_character(person):    # check for disney character\n",
    "                    out_msg= disney_character_output(person) \n",
    "            if princess_check(person):      # checks for if a princess or not\n",
    "                    out_msg= princess_output(person)\n",
    "            if pixar_check(person):         # checks if pixar related\n",
    "                    out_msg= pixar_output(person) \n",
    "            print('Baymax:', out_msg)\n",
    "        if not out_msg:                     # if no message has been saved then a random value from the unknown list is given\n",
    "            out_msg = random.choice(unknown) \n",
    "            print('Baymax:', out_msg)\n",
    "        "
   ]
  },
  {
   "cell_type": "code",
   "execution_count": null,
   "metadata": {},
   "outputs": [
    {
     "name": "stdout",
     "output_type": "stream",
     "text": [
      "Hi im baymax please enter your name\n",
      "hi\n",
      "hello nice to meet you hi lets chat\n",
      "Baymax: None\n",
      "Baymax: Good.\n"
     ]
    }
   ],
   "source": [
    "Baymax_on()"
   ]
  },
  {
   "cell_type": "code",
   "execution_count": null,
   "metadata": {},
   "outputs": [],
   "source": []
  }
 ],
 "metadata": {
  "kernelspec": {
   "display_name": "Python 3",
   "language": "python",
   "name": "python3"
  },
  "language_info": {
   "codemirror_mode": {
    "name": "ipython",
    "version": 3
   },
   "file_extension": ".py",
   "mimetype": "text/x-python",
   "name": "python",
   "nbconvert_exporter": "python",
   "pygments_lexer": "ipython3",
   "version": "3.6.7"
  }
 },
 "nbformat": 4,
 "nbformat_minor": 2
}
